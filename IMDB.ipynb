{
 "cells": [
  {
   "cell_type": "code",
   "execution_count": 1,
   "metadata": {},
   "outputs": [],
   "source": [
    "import os \n",
    "import pandas as pd\n",
    "import numpy as np\n",
    "import matplotlib.pyplot as plt\n",
    "% matplotlib inline"
   ]
  },
  {
   "cell_type": "code",
   "execution_count": 2,
   "metadata": {},
   "outputs": [
    {
     "data": {
      "text/plain": [
       "['links.csv',\n",
       " 'tags.csv',\n",
       " 'genome-tags.csv',\n",
       " 'ratings.csv',\n",
       " 'README.txt',\n",
       " 'genome-scores.csv',\n",
       " 'movies.csv']"
      ]
     },
     "execution_count": 2,
     "metadata": {},
     "output_type": "execute_result"
    }
   ],
   "source": [
    "path = os.path.abspath(\"downloads/ml-20m/\")\n",
    "path\n",
    "\n",
    "filename = os.listdir(path)\n",
    "filename\n"
   ]
  },
  {
   "cell_type": "code",
   "execution_count": 3,
   "metadata": {},
   "outputs": [],
   "source": [
    "df_movie = pd.read_csv(path + \"/\" + filename[6] )\n",
    "df_tags = pd.read_csv(path + \"/\" + filename[1])\n",
    "df_ratings = pd.read_csv(path + \"/\" + filename[3])\n",
    "\n",
    "\n"
   ]
  },
  {
   "cell_type": "code",
   "execution_count": 4,
   "metadata": {},
   "outputs": [
    {
     "name": "stdout",
     "output_type": "stream",
     "text": [
      "<class 'pandas.core.frame.DataFrame'>\n",
      "RangeIndex: 27278 entries, 0 to 27277\n",
      "Data columns (total 3 columns):\n",
      "movieId    27278 non-null int64\n",
      "title      27278 non-null object\n",
      "genres     27278 non-null object\n",
      "dtypes: int64(1), object(2)\n",
      "memory usage: 639.4+ KB\n"
     ]
    }
   ],
   "source": [
    "df_movie.info()"
   ]
  },
  {
   "cell_type": "code",
   "execution_count": 5,
   "metadata": {},
   "outputs": [
    {
     "data": {
      "text/html": [
       "<div>\n",
       "<style scoped>\n",
       "    .dataframe tbody tr th:only-of-type {\n",
       "        vertical-align: middle;\n",
       "    }\n",
       "\n",
       "    .dataframe tbody tr th {\n",
       "        vertical-align: top;\n",
       "    }\n",
       "\n",
       "    .dataframe thead th {\n",
       "        text-align: right;\n",
       "    }\n",
       "</style>\n",
       "<table border=\"1\" class=\"dataframe\">\n",
       "  <thead>\n",
       "    <tr style=\"text-align: right;\">\n",
       "      <th></th>\n",
       "      <th>movieId</th>\n",
       "    </tr>\n",
       "  </thead>\n",
       "  <tbody>\n",
       "    <tr>\n",
       "      <th>count</th>\n",
       "      <td>27278.000000</td>\n",
       "    </tr>\n",
       "    <tr>\n",
       "      <th>mean</th>\n",
       "      <td>59855.480570</td>\n",
       "    </tr>\n",
       "    <tr>\n",
       "      <th>std</th>\n",
       "      <td>44429.314697</td>\n",
       "    </tr>\n",
       "    <tr>\n",
       "      <th>min</th>\n",
       "      <td>1.000000</td>\n",
       "    </tr>\n",
       "    <tr>\n",
       "      <th>25%</th>\n",
       "      <td>6931.250000</td>\n",
       "    </tr>\n",
       "    <tr>\n",
       "      <th>50%</th>\n",
       "      <td>68068.000000</td>\n",
       "    </tr>\n",
       "    <tr>\n",
       "      <th>75%</th>\n",
       "      <td>100293.250000</td>\n",
       "    </tr>\n",
       "    <tr>\n",
       "      <th>max</th>\n",
       "      <td>131262.000000</td>\n",
       "    </tr>\n",
       "  </tbody>\n",
       "</table>\n",
       "</div>"
      ],
      "text/plain": [
       "             movieId\n",
       "count   27278.000000\n",
       "mean    59855.480570\n",
       "std     44429.314697\n",
       "min         1.000000\n",
       "25%      6931.250000\n",
       "50%     68068.000000\n",
       "75%    100293.250000\n",
       "max    131262.000000"
      ]
     },
     "execution_count": 5,
     "metadata": {},
     "output_type": "execute_result"
    }
   ],
   "source": [
    "df_movie.describe()"
   ]
  },
  {
   "cell_type": "code",
   "execution_count": 6,
   "metadata": {},
   "outputs": [
    {
     "data": {
      "text/plain": [
       "movieId    False\n",
       "title      False\n",
       "genres     False\n",
       "dtype: bool"
      ]
     },
     "execution_count": 6,
     "metadata": {},
     "output_type": "execute_result"
    }
   ],
   "source": [
    "df_movie.isnull().any()"
   ]
  },
  {
   "cell_type": "code",
   "execution_count": 7,
   "metadata": {},
   "outputs": [
    {
     "data": {
      "text/plain": [
       "Index(['movieId', 'title', 'genres'], dtype='object')"
      ]
     },
     "execution_count": 7,
     "metadata": {},
     "output_type": "execute_result"
    }
   ],
   "source": [
    "df_movie.columns"
   ]
  },
  {
   "cell_type": "code",
   "execution_count": 8,
   "metadata": {},
   "outputs": [
    {
     "name": "stdout",
     "output_type": "stream",
     "text": [
      "<class 'pandas.core.frame.DataFrame'>\n",
      "RangeIndex: 465564 entries, 0 to 465563\n",
      "Data columns (total 4 columns):\n",
      "userId       465564 non-null int64\n",
      "movieId      465564 non-null int64\n",
      "tag          465548 non-null object\n",
      "timestamp    465564 non-null int64\n",
      "dtypes: int64(3), object(1)\n",
      "memory usage: 14.2+ MB\n"
     ]
    }
   ],
   "source": [
    "df_tags.info()\n",
    "df_tags.describe()\n",
    "df_tags.isnull().any()\n",
    "df_tags = df_tags.dropna()"
   ]
  },
  {
   "cell_type": "code",
   "execution_count": 9,
   "metadata": {},
   "outputs": [
    {
     "name": "stdout",
     "output_type": "stream",
     "text": [
      "<class 'pandas.core.frame.DataFrame'>\n",
      "RangeIndex: 20000263 entries, 0 to 20000262\n",
      "Data columns (total 4 columns):\n",
      "userId       int64\n",
      "movieId      int64\n",
      "rating       float64\n",
      "timestamp    int64\n",
      "dtypes: float64(1), int64(3)\n",
      "memory usage: 610.4 MB\n"
     ]
    }
   ],
   "source": [
    "df_ratings.info()"
   ]
  },
  {
   "cell_type": "code",
   "execution_count": 10,
   "metadata": {
    "scrolled": true
   },
   "outputs": [
    {
     "data": {
      "text/html": [
       "<div>\n",
       "<style scoped>\n",
       "    .dataframe tbody tr th:only-of-type {\n",
       "        vertical-align: middle;\n",
       "    }\n",
       "\n",
       "    .dataframe tbody tr th {\n",
       "        vertical-align: top;\n",
       "    }\n",
       "\n",
       "    .dataframe thead th {\n",
       "        text-align: right;\n",
       "    }\n",
       "</style>\n",
       "<table border=\"1\" class=\"dataframe\">\n",
       "  <thead>\n",
       "    <tr style=\"text-align: right;\">\n",
       "      <th></th>\n",
       "      <th>userId</th>\n",
       "      <th>movieId</th>\n",
       "      <th>rating</th>\n",
       "      <th>timestamp</th>\n",
       "    </tr>\n",
       "  </thead>\n",
       "  <tbody>\n",
       "    <tr>\n",
       "      <th>count</th>\n",
       "      <td>2.000026e+07</td>\n",
       "      <td>2.000026e+07</td>\n",
       "      <td>2.000026e+07</td>\n",
       "      <td>2.000026e+07</td>\n",
       "    </tr>\n",
       "    <tr>\n",
       "      <th>mean</th>\n",
       "      <td>6.904587e+04</td>\n",
       "      <td>9.041567e+03</td>\n",
       "      <td>3.525529e+00</td>\n",
       "      <td>1.100918e+09</td>\n",
       "    </tr>\n",
       "    <tr>\n",
       "      <th>std</th>\n",
       "      <td>4.003863e+04</td>\n",
       "      <td>1.978948e+04</td>\n",
       "      <td>1.051989e+00</td>\n",
       "      <td>1.621694e+08</td>\n",
       "    </tr>\n",
       "    <tr>\n",
       "      <th>min</th>\n",
       "      <td>1.000000e+00</td>\n",
       "      <td>1.000000e+00</td>\n",
       "      <td>5.000000e-01</td>\n",
       "      <td>7.896520e+08</td>\n",
       "    </tr>\n",
       "    <tr>\n",
       "      <th>25%</th>\n",
       "      <td>3.439500e+04</td>\n",
       "      <td>9.020000e+02</td>\n",
       "      <td>3.000000e+00</td>\n",
       "      <td>9.667977e+08</td>\n",
       "    </tr>\n",
       "    <tr>\n",
       "      <th>50%</th>\n",
       "      <td>6.914100e+04</td>\n",
       "      <td>2.167000e+03</td>\n",
       "      <td>3.500000e+00</td>\n",
       "      <td>1.103556e+09</td>\n",
       "    </tr>\n",
       "    <tr>\n",
       "      <th>75%</th>\n",
       "      <td>1.036370e+05</td>\n",
       "      <td>4.770000e+03</td>\n",
       "      <td>4.000000e+00</td>\n",
       "      <td>1.225642e+09</td>\n",
       "    </tr>\n",
       "    <tr>\n",
       "      <th>max</th>\n",
       "      <td>1.384930e+05</td>\n",
       "      <td>1.312620e+05</td>\n",
       "      <td>5.000000e+00</td>\n",
       "      <td>1.427784e+09</td>\n",
       "    </tr>\n",
       "  </tbody>\n",
       "</table>\n",
       "</div>"
      ],
      "text/plain": [
       "             userId       movieId        rating     timestamp\n",
       "count  2.000026e+07  2.000026e+07  2.000026e+07  2.000026e+07\n",
       "mean   6.904587e+04  9.041567e+03  3.525529e+00  1.100918e+09\n",
       "std    4.003863e+04  1.978948e+04  1.051989e+00  1.621694e+08\n",
       "min    1.000000e+00  1.000000e+00  5.000000e-01  7.896520e+08\n",
       "25%    3.439500e+04  9.020000e+02  3.000000e+00  9.667977e+08\n",
       "50%    6.914100e+04  2.167000e+03  3.500000e+00  1.103556e+09\n",
       "75%    1.036370e+05  4.770000e+03  4.000000e+00  1.225642e+09\n",
       "max    1.384930e+05  1.312620e+05  5.000000e+00  1.427784e+09"
      ]
     },
     "execution_count": 10,
     "metadata": {},
     "output_type": "execute_result"
    }
   ],
   "source": [
    "df_ratings.describe()"
   ]
  },
  {
   "cell_type": "code",
   "execution_count": 11,
   "metadata": {},
   "outputs": [
    {
     "data": {
      "text/plain": [
       "False"
      ]
     },
     "execution_count": 11,
     "metadata": {},
     "output_type": "execute_result"
    }
   ],
   "source": [
    "df_ratings[\"rating\"].any() > 5\n"
   ]
  },
  {
   "cell_type": "code",
   "execution_count": 12,
   "metadata": {},
   "outputs": [
    {
     "data": {
      "image/png": "[encoded data removed]",
      "text/plain": [
       "<Figure size 432x288 with 1 Axes>"
      ]
     },
     "metadata": {
      "needs_background": "light"
     },
     "output_type": "display_data"
    }
   ],
   "source": [
    "df_ratings[\"rating\"].plot(kind = \"box\", title = \"box plot for the rating\", grid = True, color = 'g')\n",
    "plt.ylabel(\"Median Rating Range\")\n",
    "plt.xlabel(\"Rating\")\n",
    "plt.show()\n"
   ]
  },
  {
   "cell_type": "code",
   "execution_count": 13,
   "metadata": {},
   "outputs": [],
   "source": [
    "new_rating =df_ratings.merge(df_movie,on =\"movieId\", how = \"inner\" ).drop_duplicates()\n",
    "#new_rating = new_rating.sort_values(by ='rating', ascending = False)\n"
   ]
  },
  {
   "cell_type": "code",
   "execution_count": 14,
   "metadata": {},
   "outputs": [
    {
     "data": {
      "text/plain": [
       "0            True\n",
       "1            True\n",
       "2            True\n",
       "3            True\n",
       "4            True\n",
       "5            True\n",
       "6           False\n",
       "7            True\n",
       "8            True\n",
       "9            True\n",
       "10          False\n",
       "11           True\n",
       "12           True\n",
       "13           True\n",
       "14           True\n",
       "15          False\n",
       "16           True\n",
       "17           True\n",
       "18           True\n",
       "19           True\n",
       "20           True\n",
       "21           True\n",
       "22           True\n",
       "23           True\n",
       "24           True\n",
       "25           True\n",
       "26           True\n",
       "27           True\n",
       "28           True\n",
       "29           True\n",
       "            ...  \n",
       "20000233     True\n",
       "20000234     True\n",
       "20000235     True\n",
       "20000236     True\n",
       "20000237     True\n",
       "20000238     True\n",
       "20000239     True\n",
       "20000240     True\n",
       "20000241     True\n",
       "20000242     True\n",
       "20000243     True\n",
       "20000244     True\n",
       "20000245     True\n",
       "20000246     True\n",
       "20000247     True\n",
       "20000248     True\n",
       "20000249     True\n",
       "20000250     True\n",
       "20000251     True\n",
       "20000252     True\n",
       "20000253     True\n",
       "20000254     True\n",
       "20000255     True\n",
       "20000256     True\n",
       "20000257     True\n",
       "20000258     True\n",
       "20000259     True\n",
       "20000260     True\n",
       "20000261     True\n",
       "20000262     True\n",
       "Name: rating, Length: 20000263, dtype: bool"
      ]
     },
     "execution_count": 14,
     "metadata": {},
     "output_type": "execute_result"
    }
   ],
   "source": [
    "new_rating_filter = np.logical_and(new_rating[\"rating\"]>1, new_rating[\"rating\"]<=5)\n",
    "new_rating_filter"
   ]
  },
  {
   "cell_type": "code",
   "execution_count": 15,
   "metadata": {},
   "outputs": [],
   "source": [
    "model_df=new_rating[new_rating_filter]"
   ]
  },
  {
   "cell_type": "code",
   "execution_count": 16,
   "metadata": {},
   "outputs": [
    {
     "name": "stderr",
     "output_type": "stream",
     "text": [
      "/anaconda3/lib/python3.7/site-packages/ipykernel_launcher.py:1: SettingWithCopyWarning: \n",
      "A value is trying to be set on a copy of a slice from a DataFrame.\n",
      "Try using .loc[row_indexer,col_indexer] = value instead\n",
      "\n",
      "See the caveats in the documentation: http://pandas.pydata.org/pandas-docs/stable/indexing.html#indexing-view-versus-copy\n",
      "  \"\"\"Entry point for launching an IPython kernel.\n"
     ]
    }
   ],
   "source": [
    "model_df[\"timestamp\"]=pd.to_datetime(new_rating[\"timestamp\"], unit ='s')"
   ]
  },
  {
   "cell_type": "code",
   "execution_count": 17,
   "metadata": {},
   "outputs": [
    {
     "data": {
      "text/plain": [
       "dtype('<M8[ns]')"
      ]
     },
     "execution_count": 17,
     "metadata": {},
     "output_type": "execute_result"
    }
   ],
   "source": [
    "(model_df[\"timestamp\"].dtype)"
   ]
  },
  {
   "cell_type": "code",
   "execution_count": 18,
   "metadata": {},
   "outputs": [
    {
     "data": {
      "text/plain": [
       "userId       19080406\n",
       "movieId      19080406\n",
       "rating       19080406\n",
       "timestamp    19080406\n",
       "title        19080406\n",
       "genres       19080406\n",
       "dtype: int64"
      ]
     },
     "execution_count": 18,
     "metadata": {},
     "output_type": "execute_result"
    }
   ],
   "source": [
    "model_df.count()"
   ]
  },
  {
   "cell_type": "code",
   "execution_count": 19,
   "metadata": {},
   "outputs": [
    {
     "name": "stderr",
     "output_type": "stream",
     "text": [
      "/anaconda3/lib/python3.7/site-packages/ipykernel_launcher.py:1: SettingWithCopyWarning: \n",
      "A value is trying to be set on a copy of a slice from a DataFrame.\n",
      "Try using .loc[row_indexer,col_indexer] = value instead\n",
      "\n",
      "See the caveats in the documentation: http://pandas.pydata.org/pandas-docs/stable/indexing.html#indexing-view-versus-copy\n",
      "  \"\"\"Entry point for launching an IPython kernel.\n"
     ]
    }
   ],
   "source": [
    "model_df[\"makeYear\"]=model_df[\"title\"].str.extract(\"^.*?\\([^\\d]*(\\d+)[^\\d]*\\).*$\")"
   ]
  },
  {
   "cell_type": "code",
   "execution_count": 20,
   "metadata": {},
   "outputs": [],
   "source": [
    "comedy_flter=model_df[\"genres\"].str.contains(\"Comedy\")\n"
   ]
  },
  {
   "cell_type": "code",
   "execution_count": 21,
   "metadata": {},
   "outputs": [],
   "source": [
    "comedy_df =model_df[comedy_flter]\n",
    "df_test = comedy_df.groupby([\"title\",\"makeYear\"])[\"rating\"].mean().reset_index().sort_values(by=\"makeYear\")\n",
    "df_test[\"year\"] = df_test[\"title\"].str.extract(\".*\\((.*)\\).*\", expand = True)"
   ]
  },
  {
   "cell_type": "code",
   "execution_count": 22,
   "metadata": {},
   "outputs": [
    {
     "data": {
      "text/plain": [
       "Text(0,0.5,'Count of Comedy movies')"
      ]
     },
     "execution_count": 22,
     "metadata": {},
     "output_type": "execute_result"
    },
    {
     "data": {
      "image/png": "[encoded data removed]",
      "text/plain": [
       "<Figure size 864x864 with 1 Axes>"
      ]
     },
     "metadata": {
      "needs_background": "light"
     },
     "output_type": "display_data"
    }
   ],
   "source": [
    "#Average ratings of comedy movies overtime\n",
    "df_test.plot(kind=\"hist\", figsize=(12,12), title = \"Distribution of Comedy movies in regards to rating\")\n",
    "plt.xlabel(\"Rating\")\n",
    "plt.ylabel(\"Count of Comedy movies\")\n"
   ]
  },
  {
   "cell_type": "code",
   "execution_count": 23,
   "metadata": {},
   "outputs": [
    {
     "name": "stdout",
     "output_type": "stream",
     "text": [
      "<class 'pandas.core.frame.DataFrame'>\n",
      "Int64Index: 8117 entries, 2512 to 1935\n",
      "Data columns (total 4 columns):\n",
      "title       8117 non-null object\n",
      "makeYear    8117 non-null object\n",
      "rating      8117 non-null float64\n",
      "year        8117 non-null object\n",
      "dtypes: float64(1), object(3)\n",
      "memory usage: 317.1+ KB\n"
     ]
    }
   ],
   "source": [
    "df_test.info()"
   ]
  },
  {
   "cell_type": "code",
   "execution_count": 24,
   "metadata": {},
   "outputs": [
    {
     "name": "stdout",
     "output_type": "stream",
     "text": [
      "None\n"
     ]
    },
    {
     "data": {
      "text/plain": [
       "2512     008\n",
       "8023      01\n",
       "3488       1\n",
       "4268       1\n",
       "4373      10\n",
       "21       101\n",
       "5295      11\n",
       "5289     117\n",
       "5288     117\n",
       "6947    1895\n",
       "7095    1905\n",
       "7242    1909\n",
       "1188    1912\n",
       "7287    1914\n",
       "299     1914\n",
       "2714    1914\n",
       "3226    1914\n",
       "4434    1914\n",
       "4435    1914\n",
       "1313    1915\n",
       "6391    1915\n",
       "5171    1915\n",
       "3738    1915\n",
       "618     1915\n",
       "3545    1915\n",
       "1143    1915\n",
       "107     1915\n",
       "2429    1916\n",
       "6032    1916\n",
       "5692    1916\n",
       "        ... \n",
       "4536       3\n",
       "7248       3\n",
       "7258       3\n",
       "4874       3\n",
       "2582       3\n",
       "6953      36\n",
       "2534       4\n",
       "328        4\n",
       "324        4\n",
       "2215       4\n",
       "2441       4\n",
       "1050       4\n",
       "6305       5\n",
       "323        5\n",
       "4        500\n",
       "322        6\n",
       "7975       6\n",
       "5552       6\n",
       "8070      65\n",
       "2185      68\n",
       "85        69\n",
       "1157       7\n",
       "325        7\n",
       "5260       7\n",
       "2408       8\n",
       "89         8\n",
       "93       800\n",
       "5838       9\n",
       "94         9\n",
       "1935      90\n",
       "Name: makeYear, Length: 8117, dtype: object"
      ]
     },
     "execution_count": 24,
     "metadata": {},
     "output_type": "execute_result"
    }
   ],
   "source": [
    "df_test.isnull().any()\n",
    "print(df_test.index.name)\n",
    "\n",
    "df_test.pop(\"makeYear\")"
   ]
  },
  {
   "cell_type": "code",
   "execution_count": null,
   "metadata": {},
   "outputs": [],
   "source": []
  },
  {
   "cell_type": "code",
   "execution_count": 27,
   "metadata": {},
   "outputs": [
    {
     "name": "stdout",
     "output_type": "stream",
     "text": [
      "<class 'pandas.core.frame.DataFrame'>\n",
      "Int64Index: 8117 entries, 2512 to 1935\n",
      "Data columns (total 3 columns):\n",
      "title     8117 non-null object\n",
      "rating    8117 non-null float64\n",
      "year      8117 non-null int64\n",
      "dtypes: float64(1), int64(1), object(1)\n",
      "memory usage: 253.7+ KB\n"
     ]
    },
    {
     "name": "stderr",
     "output_type": "stream",
     "text": [
      "/anaconda3/lib/python3.7/site-packages/pandas/core/indexing.py:189: SettingWithCopyWarning: \n",
      "A value is trying to be set on a copy of a slice from a DataFrame\n",
      "\n",
      "See the caveats in the documentation: http://pandas.pydata.org/pandas-docs/stable/indexing.html#indexing-view-versus-copy\n",
      "  self._setitem_with_indexer(indexer, value)\n"
     ]
    }
   ],
   "source": [
    "df_test[\"year\"].iloc[6565] = '2009'\n",
    "df_test['year'].iloc[6147] ='2007'\n",
    "\n",
    "df_test[\"year\"]= pd.to_numeric(df_test.year)\n",
    "\n",
    "df_test.info()\n",
    "\n"
   ]
  },
  {
   "cell_type": "code",
   "execution_count": 28,
   "metadata": {},
   "outputs": [
    {
     "data": {
      "text/html": [
       "<div>\n",
       "<style scoped>\n",
       "    .dataframe tbody tr th:only-of-type {\n",
       "        vertical-align: middle;\n",
       "    }\n",
       "\n",
       "    .dataframe tbody tr th {\n",
       "        vertical-align: top;\n",
       "    }\n",
       "\n",
       "    .dataframe thead th {\n",
       "        text-align: right;\n",
       "    }\n",
       "</style>\n",
       "<table border=\"1\" class=\"dataframe\">\n",
       "  <thead>\n",
       "    <tr style=\"text-align: right;\">\n",
       "      <th></th>\n",
       "      <th>title</th>\n",
       "      <th>rating</th>\n",
       "      <th>year</th>\n",
       "    </tr>\n",
       "  </thead>\n",
       "  <tbody>\n",
       "    <tr>\n",
       "      <th>2512</th>\n",
       "      <td>Forbidden City Cop (Dai lap mat tam 008) (1996)</td>\n",
       "      <td>3.000000</td>\n",
       "      <td>1996</td>\n",
       "    </tr>\n",
       "    <tr>\n",
       "      <th>8023</th>\n",
       "      <td>Year One, The (L'an 01) (1973)</td>\n",
       "      <td>3.666667</td>\n",
       "      <td>1973</td>\n",
       "    </tr>\n",
       "    <tr>\n",
       "      <th>3488</th>\n",
       "      <td>Ichi the Killer (Koroshiya 1) (2001)</td>\n",
       "      <td>3.597193</td>\n",
       "      <td>2001</td>\n",
       "    </tr>\n",
       "    <tr>\n",
       "      <th>4268</th>\n",
       "      <td>Loaded Weapon 1 (National Lampoon's Loaded Wea...</td>\n",
       "      <td>3.016301</td>\n",
       "      <td>1993</td>\n",
       "    </tr>\n",
       "    <tr>\n",
       "      <th>4373</th>\n",
       "      <td>Love and Anarchy (Film d'amore e d'anarchia, o...</td>\n",
       "      <td>3.500000</td>\n",
       "      <td>1973</td>\n",
       "    </tr>\n",
       "    <tr>\n",
       "      <th>21</th>\n",
       "      <td>101 Reykjavik (101 Reykjavík) (2000)</td>\n",
       "      <td>3.629505</td>\n",
       "      <td>2000</td>\n",
       "    </tr>\n",
       "    <tr>\n",
       "      <th>5295</th>\n",
       "      <td>Ocean's Eleven (a.k.a. Ocean's 11) (1960)</td>\n",
       "      <td>3.610386</td>\n",
       "      <td>1960</td>\n",
       "    </tr>\n",
       "    <tr>\n",
       "      <th>5289</th>\n",
       "      <td>OSS 117: Cairo, Nest of Spies (OSS 117: Le Cai...</td>\n",
       "      <td>3.693182</td>\n",
       "      <td>2006</td>\n",
       "    </tr>\n",
       "    <tr>\n",
       "      <th>5288</th>\n",
       "      <td>OSS 117 - Lost in Rio (OSS 117: Rio ne répond ...</td>\n",
       "      <td>3.623077</td>\n",
       "      <td>2009</td>\n",
       "    </tr>\n",
       "    <tr>\n",
       "      <th>6947</th>\n",
       "      <td>Tables Turned on the Gardener (1895)</td>\n",
       "      <td>4.000000</td>\n",
       "      <td>1895</td>\n",
       "    </tr>\n",
       "    <tr>\n",
       "      <th>7095</th>\n",
       "      <td>The Black Devil (1905)</td>\n",
       "      <td>2.500000</td>\n",
       "      <td>1905</td>\n",
       "    </tr>\n",
       "    <tr>\n",
       "      <th>7242</th>\n",
       "      <td>Those Awful Hats (1909)</td>\n",
       "      <td>2.750000</td>\n",
       "      <td>1909</td>\n",
       "    </tr>\n",
       "    <tr>\n",
       "      <th>1188</th>\n",
       "      <td>Cameraman's Revenge, The (Mest kinematografich...</td>\n",
       "      <td>3.892857</td>\n",
       "      <td>1912</td>\n",
       "    </tr>\n",
       "    <tr>\n",
       "      <th>7287</th>\n",
       "      <td>Tillie's Punctured Romance (1914)</td>\n",
       "      <td>3.250000</td>\n",
       "      <td>1914</td>\n",
       "    </tr>\n",
       "    <tr>\n",
       "      <th>299</th>\n",
       "      <td>Always Tell Your Wife (1914)</td>\n",
       "      <td>2.714286</td>\n",
       "      <td>1914</td>\n",
       "    </tr>\n",
       "    <tr>\n",
       "      <th>2714</th>\n",
       "      <td>Gertie the Dinosaur (1914)</td>\n",
       "      <td>3.500000</td>\n",
       "      <td>1914</td>\n",
       "    </tr>\n",
       "    <tr>\n",
       "      <th>3226</th>\n",
       "      <td>His New Profession (1914)</td>\n",
       "      <td>2.375000</td>\n",
       "      <td>1914</td>\n",
       "    </tr>\n",
       "    <tr>\n",
       "      <th>4434</th>\n",
       "      <td>Mabel at the Wheel (1914)</td>\n",
       "      <td>2.500000</td>\n",
       "      <td>1914</td>\n",
       "    </tr>\n",
       "    <tr>\n",
       "      <th>4435</th>\n",
       "      <td>Mabel's Married Life (1914)</td>\n",
       "      <td>2.500000</td>\n",
       "      <td>1914</td>\n",
       "    </tr>\n",
       "    <tr>\n",
       "      <th>1313</th>\n",
       "      <td>Champion, The (1915)</td>\n",
       "      <td>3.000000</td>\n",
       "      <td>1915</td>\n",
       "    </tr>\n",
       "    <tr>\n",
       "      <th>6391</th>\n",
       "      <td>Shanghaied (1915)</td>\n",
       "      <td>3.250000</td>\n",
       "      <td>1915</td>\n",
       "    </tr>\n",
       "    <tr>\n",
       "      <th>5171</th>\n",
       "      <td>Night Out, A (1915)</td>\n",
       "      <td>3.200000</td>\n",
       "      <td>1915</td>\n",
       "    </tr>\n",
       "    <tr>\n",
       "      <th>3738</th>\n",
       "      <td>Jitney Elopement, A (1915)</td>\n",
       "      <td>2.500000</td>\n",
       "      <td>1915</td>\n",
       "    </tr>\n",
       "    <tr>\n",
       "      <th>618</th>\n",
       "      <td>Bank, The (1915)</td>\n",
       "      <td>3.125000</td>\n",
       "      <td>1915</td>\n",
       "    </tr>\n",
       "    <tr>\n",
       "      <th>3545</th>\n",
       "      <td>In the Park (1915)</td>\n",
       "      <td>2.750000</td>\n",
       "      <td>1915</td>\n",
       "    </tr>\n",
       "    <tr>\n",
       "      <th>1143</th>\n",
       "      <td>By the Sea (1915)</td>\n",
       "      <td>3.500000</td>\n",
       "      <td>1915</td>\n",
       "    </tr>\n",
       "    <tr>\n",
       "      <th>107</th>\n",
       "      <td>A Night in the Show (1915)</td>\n",
       "      <td>3.250000</td>\n",
       "      <td>1915</td>\n",
       "    </tr>\n",
       "    <tr>\n",
       "      <th>2429</th>\n",
       "      <td>Fireman, The (1916)</td>\n",
       "      <td>3.250000</td>\n",
       "      <td>1916</td>\n",
       "    </tr>\n",
       "    <tr>\n",
       "      <th>6032</th>\n",
       "      <td>Rink, The (1916)</td>\n",
       "      <td>3.583333</td>\n",
       "      <td>1916</td>\n",
       "    </tr>\n",
       "    <tr>\n",
       "      <th>5692</th>\n",
       "      <td>Police (1916)</td>\n",
       "      <td>2.500000</td>\n",
       "      <td>1916</td>\n",
       "    </tr>\n",
       "    <tr>\n",
       "      <th>...</th>\n",
       "      <td>...</td>\n",
       "      <td>...</td>\n",
       "      <td>...</td>\n",
       "    </tr>\n",
       "    <tr>\n",
       "      <th>4536</th>\n",
       "      <td>Man with an Apartment (Czlowiek z M-3) (1969)</td>\n",
       "      <td>3.750000</td>\n",
       "      <td>1969</td>\n",
       "    </tr>\n",
       "    <tr>\n",
       "      <th>7248</th>\n",
       "      <td>Three (a.k.a. 3) (2010)</td>\n",
       "      <td>3.269231</td>\n",
       "      <td>2010</td>\n",
       "    </tr>\n",
       "    <tr>\n",
       "      <th>7258</th>\n",
       "      <td>Three Men and a Cradle (3 hommes et un couffin...</td>\n",
       "      <td>3.409091</td>\n",
       "      <td>1985</td>\n",
       "    </tr>\n",
       "    <tr>\n",
       "      <th>4874</th>\n",
       "      <td>Move (3 Zimmer/Küche/Bad) (2012)</td>\n",
       "      <td>3.500000</td>\n",
       "      <td>2012</td>\n",
       "    </tr>\n",
       "    <tr>\n",
       "      <th>2582</th>\n",
       "      <td>French Fried Vacation 3 (Les bronzés 3: amis p...</td>\n",
       "      <td>2.250000</td>\n",
       "      <td>2006</td>\n",
       "    </tr>\n",
       "    <tr>\n",
       "      <th>6953</th>\n",
       "      <td>Taipei Exchanges (Di 36 ge gu shi) (2010)</td>\n",
       "      <td>4.000000</td>\n",
       "      <td>2010</td>\n",
       "    </tr>\n",
       "    <tr>\n",
       "      <th>2534</th>\n",
       "      <td>Four Adventures of Reinette and Mirabelle (4 a...</td>\n",
       "      <td>3.650000</td>\n",
       "      <td>1987</td>\n",
       "    </tr>\n",
       "    <tr>\n",
       "      <th>328</th>\n",
       "      <td>American Reunion (American Pie 4) (2012)</td>\n",
       "      <td>3.279851</td>\n",
       "      <td>2012</td>\n",
       "    </tr>\n",
       "    <tr>\n",
       "      <th>324</th>\n",
       "      <td>American Pie Presents: Band Camp (American Pie...</td>\n",
       "      <td>2.945637</td>\n",
       "      <td>2005</td>\n",
       "    </tr>\n",
       "    <tr>\n",
       "      <th>2215</th>\n",
       "      <td>Entre Amigos (Planta 4ª) (2003)</td>\n",
       "      <td>3.500000</td>\n",
       "      <td>2003</td>\n",
       "    </tr>\n",
       "    <tr>\n",
       "      <th>2441</th>\n",
       "      <td>First Strike (Police Story 4: First Strike) (G...</td>\n",
       "      <td>3.441376</td>\n",
       "      <td>1996</td>\n",
       "    </tr>\n",
       "    <tr>\n",
       "      <th>1050</th>\n",
       "      <td>Bride of Chucky (Child's Play 4) (1998)</td>\n",
       "      <td>2.852305</td>\n",
       "      <td>1998</td>\n",
       "    </tr>\n",
       "    <tr>\n",
       "      <th>6305</th>\n",
       "      <td>Seed of Chucky (Child's Play 5) (2004)</td>\n",
       "      <td>2.770642</td>\n",
       "      <td>2004</td>\n",
       "    </tr>\n",
       "    <tr>\n",
       "      <th>323</th>\n",
       "      <td>American Pie Presents The Naked Mile (American...</td>\n",
       "      <td>3.058185</td>\n",
       "      <td>2006</td>\n",
       "    </tr>\n",
       "    <tr>\n",
       "      <th>4</th>\n",
       "      <td>(500) Days of Summer (2009)</td>\n",
       "      <td>3.863355</td>\n",
       "      <td>2009</td>\n",
       "    </tr>\n",
       "    <tr>\n",
       "      <th>322</th>\n",
       "      <td>American Pie Presents Beta House (American Pie...</td>\n",
       "      <td>3.082609</td>\n",
       "      <td>2007</td>\n",
       "    </tr>\n",
       "    <tr>\n",
       "      <th>7975</th>\n",
       "      <td>Women on the 6th Floor, The (Les Femmes du 6èm...</td>\n",
       "      <td>3.700000</td>\n",
       "      <td>2010</td>\n",
       "    </tr>\n",
       "    <tr>\n",
       "      <th>5552</th>\n",
       "      <td>Peas at 5:30 (Erbsen auf halb 6) (2004)</td>\n",
       "      <td>4.250000</td>\n",
       "      <td>2004</td>\n",
       "    </tr>\n",
       "    <tr>\n",
       "      <th>8070</th>\n",
       "      <td>Your Life in 65 (Tu vida en 65') (2006)</td>\n",
       "      <td>3.500000</td>\n",
       "      <td>2006</td>\n",
       "    </tr>\n",
       "    <tr>\n",
       "      <th>2185</th>\n",
       "      <td>Elusive Summer of '68, The (Varljivo leto '68)...</td>\n",
       "      <td>4.500000</td>\n",
       "      <td>1984</td>\n",
       "    </tr>\n",
       "    <tr>\n",
       "      <th>85</th>\n",
       "      <td>6ixtynin9 (Ruang Talok 69) (1999)</td>\n",
       "      <td>3.552632</td>\n",
       "      <td>1999</td>\n",
       "    </tr>\n",
       "    <tr>\n",
       "      <th>1157</th>\n",
       "      <td>CJ7 (Cheung Gong 7 hou) (2008)</td>\n",
       "      <td>3.338384</td>\n",
       "      <td>2008</td>\n",
       "    </tr>\n",
       "    <tr>\n",
       "      <th>325</th>\n",
       "      <td>American Pie Presents: The Book of Love (Ameri...</td>\n",
       "      <td>2.895480</td>\n",
       "      <td>2009</td>\n",
       "    </tr>\n",
       "    <tr>\n",
       "      <th>5260</th>\n",
       "      <td>Now Where Did the Seventh Company Get to? (Mai...</td>\n",
       "      <td>3.500000</td>\n",
       "      <td>1973</td>\n",
       "    </tr>\n",
       "    <tr>\n",
       "      <th>2408</th>\n",
       "      <td>Fight, Zatoichi, Fight (Zatôichi kesshô-tabi) ...</td>\n",
       "      <td>3.166667</td>\n",
       "      <td>1964</td>\n",
       "    </tr>\n",
       "    <tr>\n",
       "      <th>89</th>\n",
       "      <td>8 Days to Premiere (8 päivää ensi-iltaan) (2008)</td>\n",
       "      <td>2.000000</td>\n",
       "      <td>2008</td>\n",
       "    </tr>\n",
       "    <tr>\n",
       "      <th>93</th>\n",
       "      <td>800 Bullets (800 Balas) (2002)</td>\n",
       "      <td>3.273438</td>\n",
       "      <td>2002</td>\n",
       "    </tr>\n",
       "    <tr>\n",
       "      <th>5838</th>\n",
       "      <td>Puppet Master vs. Demonic Toys (Puppet Master ...</td>\n",
       "      <td>2.833333</td>\n",
       "      <td>2004</td>\n",
       "    </tr>\n",
       "    <tr>\n",
       "      <th>94</th>\n",
       "      <td>9 Month Stretch (9 mois ferme) (2013)</td>\n",
       "      <td>3.500000</td>\n",
       "      <td>2013</td>\n",
       "    </tr>\n",
       "    <tr>\n",
       "      <th>1935</th>\n",
       "      <td>Dinner for One (Der 90. Geburtstag oder Dinner...</td>\n",
       "      <td>3.500000</td>\n",
       "      <td>1963</td>\n",
       "    </tr>\n",
       "  </tbody>\n",
       "</table>\n",
       "<p>8117 rows × 3 columns</p>\n",
       "</div>"
      ],
      "text/plain": [
       "                                                  title    rating  year\n",
       "2512    Forbidden City Cop (Dai lap mat tam 008) (1996)  3.000000  1996\n",
       "8023                     Year One, The (L'an 01) (1973)  3.666667  1973\n",
       "3488               Ichi the Killer (Koroshiya 1) (2001)  3.597193  2001\n",
       "4268  Loaded Weapon 1 (National Lampoon's Loaded Wea...  3.016301  1993\n",
       "4373  Love and Anarchy (Film d'amore e d'anarchia, o...  3.500000  1973\n",
       "21                 101 Reykjavik (101 Reykjavík) (2000)  3.629505  2000\n",
       "5295          Ocean's Eleven (a.k.a. Ocean's 11) (1960)  3.610386  1960\n",
       "5289  OSS 117: Cairo, Nest of Spies (OSS 117: Le Cai...  3.693182  2006\n",
       "5288  OSS 117 - Lost in Rio (OSS 117: Rio ne répond ...  3.623077  2009\n",
       "6947               Tables Turned on the Gardener (1895)  4.000000  1895\n",
       "7095                             The Black Devil (1905)  2.500000  1905\n",
       "7242                            Those Awful Hats (1909)  2.750000  1909\n",
       "1188  Cameraman's Revenge, The (Mest kinematografich...  3.892857  1912\n",
       "7287                  Tillie's Punctured Romance (1914)  3.250000  1914\n",
       "299                        Always Tell Your Wife (1914)  2.714286  1914\n",
       "2714                         Gertie the Dinosaur (1914)  3.500000  1914\n",
       "3226                          His New Profession (1914)  2.375000  1914\n",
       "4434                          Mabel at the Wheel (1914)  2.500000  1914\n",
       "4435                        Mabel's Married Life (1914)  2.500000  1914\n",
       "1313                               Champion, The (1915)  3.000000  1915\n",
       "6391                                  Shanghaied (1915)  3.250000  1915\n",
       "5171                                Night Out, A (1915)  3.200000  1915\n",
       "3738                         Jitney Elopement, A (1915)  2.500000  1915\n",
       "618                                    Bank, The (1915)  3.125000  1915\n",
       "3545                                 In the Park (1915)  2.750000  1915\n",
       "1143                                  By the Sea (1915)  3.500000  1915\n",
       "107                          A Night in the Show (1915)  3.250000  1915\n",
       "2429                                Fireman, The (1916)  3.250000  1916\n",
       "6032                                   Rink, The (1916)  3.583333  1916\n",
       "5692                                      Police (1916)  2.500000  1916\n",
       "...                                                 ...       ...   ...\n",
       "4536      Man with an Apartment (Czlowiek z M-3) (1969)  3.750000  1969\n",
       "7248                            Three (a.k.a. 3) (2010)  3.269231  2010\n",
       "7258  Three Men and a Cradle (3 hommes et un couffin...  3.409091  1985\n",
       "4874                   Move (3 Zimmer/Küche/Bad) (2012)  3.500000  2012\n",
       "2582  French Fried Vacation 3 (Les bronzés 3: amis p...  2.250000  2006\n",
       "6953          Taipei Exchanges (Di 36 ge gu shi) (2010)  4.000000  2010\n",
       "2534  Four Adventures of Reinette and Mirabelle (4 a...  3.650000  1987\n",
       "328            American Reunion (American Pie 4) (2012)  3.279851  2012\n",
       "324   American Pie Presents: Band Camp (American Pie...  2.945637  2005\n",
       "2215                    Entre Amigos (Planta 4ª) (2003)  3.500000  2003\n",
       "2441  First Strike (Police Story 4: First Strike) (G...  3.441376  1996\n",
       "1050            Bride of Chucky (Child's Play 4) (1998)  2.852305  1998\n",
       "6305             Seed of Chucky (Child's Play 5) (2004)  2.770642  2004\n",
       "323   American Pie Presents The Naked Mile (American...  3.058185  2006\n",
       "4                           (500) Days of Summer (2009)  3.863355  2009\n",
       "322   American Pie Presents Beta House (American Pie...  3.082609  2007\n",
       "7975  Women on the 6th Floor, The (Les Femmes du 6èm...  3.700000  2010\n",
       "5552            Peas at 5:30 (Erbsen auf halb 6) (2004)  4.250000  2004\n",
       "8070            Your Life in 65 (Tu vida en 65') (2006)  3.500000  2006\n",
       "2185  Elusive Summer of '68, The (Varljivo leto '68)...  4.500000  1984\n",
       "85                    6ixtynin9 (Ruang Talok 69) (1999)  3.552632  1999\n",
       "1157                     CJ7 (Cheung Gong 7 hou) (2008)  3.338384  2008\n",
       "325   American Pie Presents: The Book of Love (Ameri...  2.895480  2009\n",
       "5260  Now Where Did the Seventh Company Get to? (Mai...  3.500000  1973\n",
       "2408  Fight, Zatoichi, Fight (Zatôichi kesshô-tabi) ...  3.166667  1964\n",
       "89     8 Days to Premiere (8 päivää ensi-iltaan) (2008)  2.000000  2008\n",
       "93                       800 Bullets (800 Balas) (2002)  3.273438  2002\n",
       "5838  Puppet Master vs. Demonic Toys (Puppet Master ...  2.833333  2004\n",
       "94                9 Month Stretch (9 mois ferme) (2013)  3.500000  2013\n",
       "1935  Dinner for One (Der 90. Geburtstag oder Dinner...  3.500000  1963\n",
       "\n",
       "[8117 rows x 3 columns]"
      ]
     },
     "execution_count": 28,
     "metadata": {},
     "output_type": "execute_result"
    }
   ],
   "source": [
    "\n",
    "df_test"
   ]
  },
  {
   "cell_type": "code",
   "execution_count": null,
   "metadata": {},
   "outputs": [],
   "source": []
  },
  {
   "cell_type": "code",
   "execution_count": null,
   "metadata": {},
   "outputs": [],
   "source": []
  },
  {
   "cell_type": "code",
   "execution_count": 29,
   "metadata": {},
   "outputs": [],
   "source": [
    "tp = df_test[[\"year\",\"rating\"]].groupby(\"year\")[\"rating\"].mean()"
   ]
  },
  {
   "cell_type": "code",
   "execution_count": 30,
   "metadata": {},
   "outputs": [
    {
     "data": {
      "text/html": [
       "<div>\n",
       "<style scoped>\n",
       "    .dataframe tbody tr th:only-of-type {\n",
       "        vertical-align: middle;\n",
       "    }\n",
       "\n",
       "    .dataframe tbody tr th {\n",
       "        vertical-align: top;\n",
       "    }\n",
       "\n",
       "    .dataframe thead th {\n",
       "        text-align: right;\n",
       "    }\n",
       "</style>\n",
       "<table border=\"1\" class=\"dataframe\">\n",
       "  <thead>\n",
       "    <tr style=\"text-align: right;\">\n",
       "      <th></th>\n",
       "      <th>year</th>\n",
       "      <th>rating</th>\n",
       "    </tr>\n",
       "  </thead>\n",
       "  <tbody>\n",
       "    <tr>\n",
       "      <th>year</th>\n",
       "      <td>1.000000</td>\n",
       "      <td>-0.156726</td>\n",
       "    </tr>\n",
       "    <tr>\n",
       "      <th>rating</th>\n",
       "      <td>-0.156726</td>\n",
       "      <td>1.000000</td>\n",
       "    </tr>\n",
       "  </tbody>\n",
       "</table>\n",
       "</div>"
      ],
      "text/plain": [
       "            year    rating\n",
       "year    1.000000 -0.156726\n",
       "rating -0.156726  1.000000"
      ]
     },
     "execution_count": 30,
     "metadata": {},
     "output_type": "execute_result"
    }
   ],
   "source": [
    "tp.reset_index().corr()"
   ]
  },
  {
   "cell_type": "code",
   "execution_count": 31,
   "metadata": {},
   "outputs": [],
   "source": [
    "tp = tp.reset_index()"
   ]
  },
  {
   "cell_type": "code",
   "execution_count": 32,
   "metadata": {},
   "outputs": [],
   "source": [
    "df_map = tp.tail(16)"
   ]
  },
  {
   "cell_type": "code",
   "execution_count": 33,
   "metadata": {},
   "outputs": [
    {
     "data": {
      "text/plain": [
       "<matplotlib.axes._subplots.AxesSubplot at 0x11f551400>"
      ]
     },
     "execution_count": 33,
     "metadata": {},
     "output_type": "execute_result"
    },
    {
     "data": {
      "image/png": "[encoded data removed]",
      "text/plain": [
       "<Figure size 432x288 with 1 Axes>"
      ]
     },
     "metadata": {
      "needs_background": "light"
     },
     "output_type": "display_data"
    }
   ],
   "source": [
    "df_map.plot(x='year',y='rating', title = \"Average rating of comedy movies by year\")"
   ]
  },
  {
   "cell_type": "code",
   "execution_count": 34,
   "metadata": {},
   "outputs": [],
   "source": [
    "#model_df[comedy_flter]\n",
    "df_test1 = model_df.groupby([\"title\",\"genres\"])[\"rating\"].mean().reset_index().sort_values(by=\"rating\")\n",
    "df_test1[\"year\"] = df_test1[\"title\"].str.extract(\".*\\((.*)\\).*\", expand = True)"
   ]
  },
  {
   "cell_type": "code",
   "execution_count": 52,
   "metadata": {},
   "outputs": [
    {
     "name": "stdout",
     "output_type": "stream",
     "text": [
      "<class 'pandas.core.frame.DataFrame'>\n",
      "Int64Index: 26332 entries, 26348 to 14831\n",
      "Data columns (total 4 columns):\n",
      "title     26332 non-null object\n",
      "genres    26332 non-null object\n",
      "rating    26332 non-null float64\n",
      "year      26332 non-null object\n",
      "dtypes: float64(1), object(3)\n",
      "memory usage: 1.0+ MB\n"
     ]
    }
   ],
   "source": [
    "df_test1[\"genres\"] = df_test1[\"genres\"].str.split(\"|\",expand = True)\n",
    "df_test1.drop_duplicates()\n",
    "df_test1.isnull().any()\n",
    "df_test1= df_test1.dropna()\n",
    "df_test1.info()\n",
    "df_graph=df_test1.groupby([\"genres\"], as_index = False)[\"rating\"].mean()"
   ]
  },
  {
   "cell_type": "code",
   "execution_count": 84,
   "metadata": {},
   "outputs": [
    {
     "ename": "TypeError",
     "evalue": "'AxesSubplot' object is not subscriptable",
     "output_type": "error",
     "traceback": [
      "\u001b[0;31m---------------------------------------------------------------------------\u001b[0m",
      "\u001b[0;31mTypeError\u001b[0m                                 Traceback (most recent call last)",
      "\u001b[0;32m<ipython-input-84-e1a74072eee4>\u001b[0m in \u001b[0;36m<module>\u001b[0;34m()\u001b[0m\n\u001b[1;32m     10\u001b[0m \u001b[0mplt\u001b[0m\u001b[0;34m.\u001b[0m\u001b[0mylabel\u001b[0m\u001b[0;34m(\u001b[0m\u001b[0;34m\"Rating\"\u001b[0m\u001b[0;34m)\u001b[0m\u001b[0;34m\u001b[0m\u001b[0m\n\u001b[1;32m     11\u001b[0m \u001b[0mplt\u001b[0m\u001b[0;34m.\u001b[0m\u001b[0mtitle\u001b[0m\u001b[0;34m(\u001b[0m\u001b[0;34m\"Movie Genres by Rating\"\u001b[0m\u001b[0;34m)\u001b[0m\u001b[0;34m\u001b[0m\u001b[0m\n\u001b[0;32m---> 12\u001b[0;31m \u001b[0mplt\u001b[0m\u001b[0;34m.\u001b[0m\u001b[0mlegend\u001b[0m\u001b[0;34m(\u001b[0m\u001b[0mgraph_bar\u001b[0m\u001b[0;34m[\u001b[0m\u001b[0;34m\"genres\"\u001b[0m\u001b[0;34m]\u001b[0m\u001b[0;34m)\u001b[0m\u001b[0;34m\u001b[0m\u001b[0m\n\u001b[0m",
      "\u001b[0;31mTypeError\u001b[0m: 'AxesSubplot' object is not subscriptable"
     ]
    },
    {
     "data": {
      "image/png": "[encoded data removed]",
      "text/plain": [
       "<Figure size 1440x720 with 1 Axes>"
      ]
     },
     "metadata": {
      "needs_background": "light"
     },
     "output_type": "display_data"
    }
   ],
   "source": [
    "df_graph\n",
    "\n",
    "graph_bar=df_graph[\"rating\"].plot(kind=\"bar\", figsize=(20,10))\n",
    "labels = [i.get_text() for i in graph_bar.get_xticklabels()]\n",
    "for i in range(len(labels)):\n",
    "    labels[i] = df_graph[\"genres\"]\n",
    "    graph_bar.set_xticklabels(labels[i])\n",
    "\n",
    "plt.xlabel(\"Genres\")\n",
    "plt.ylabel(\"Rating\")\n",
    "plt.title(\"Movie Genres by Rating\")\n"
   ]
  },
  {
   "cell_type": "code",
   "execution_count": null,
   "metadata": {},
   "outputs": [],
   "source": []
  }
 ],
 "metadata": {
  "kernelspec": {
   "display_name": "Python 3",
   "language": "python",
   "name": "python3"
  },
  "language_info": {
   "codemirror_mode": {
    "name": "ipython",
    "version": 3
   },
   "file_extension": ".py",
   "mimetype": "text/x-python",
   "name": "python",
   "nbconvert_exporter": "python",
   "pygments_lexer": "ipython3",
   "version": "3.7.0"
  }
 },
 "nbformat": 4,
 "nbformat_minor": 2
}
